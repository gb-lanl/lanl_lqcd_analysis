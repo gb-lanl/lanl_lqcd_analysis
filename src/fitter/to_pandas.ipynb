{
 "cells": [
  {
   "cell_type": "code",
   "execution_count": 4,
   "metadata": {},
   "outputs": [
    {
     "ename": "ModuleNotFoundError",
     "evalue": "No module named 'utilities'",
     "output_type": "error",
     "traceback": [
      "\u001b[0;31m---------------------------------------------------------------------------\u001b[0m",
      "\u001b[0;31mModuleNotFoundError\u001b[0m                       Traceback (most recent call last)",
      "Cell \u001b[0;32mIn [4], line 10\u001b[0m\n\u001b[1;32m      8\u001b[0m \u001b[38;5;28;01mimport\u001b[39;00m \u001b[38;5;21;01mgvar\u001b[39;00m\n\u001b[1;32m      9\u001b[0m os\u001b[38;5;241m.\u001b[39mchdir(\u001b[38;5;124m'\u001b[39m\u001b[38;5;124m/home/gmoney/lqcd/lqcd_corr_analysis/\u001b[39m\u001b[38;5;124m'\u001b[39m)\n\u001b[0;32m---> 10\u001b[0m \u001b[38;5;28;01mfrom\u001b[39;00m \u001b[38;5;21;01msrc\u001b[39;00m\u001b[38;5;21;01m.\u001b[39;00m\u001b[38;5;21;01mutilities\u001b[39;00m\u001b[38;5;21;01m.\u001b[39;00m\u001b[38;5;21;01mh5io\u001b[39;00m \u001b[38;5;28;01mimport\u001b[39;00m get_dsets\n\u001b[1;32m     12\u001b[0m fit_params \u001b[38;5;241m=\u001b[39m \u001b[38;5;124m'\u001b[39m\u001b[38;5;124mtests/input_file/a071m170.py\u001b[39m\u001b[38;5;124m'\u001b[39m\n",
      "File \u001b[0;32m~/lqcd/lqcd_corr_analysis/src/utilities/h5io.py:18\u001b[0m\n\u001b[1;32m     15\u001b[0m \u001b[39mimport\u001b[39;00m \u001b[39mnumpy\u001b[39;00m \u001b[39mas\u001b[39;00m \u001b[39mnp\u001b[39;00m\n\u001b[1;32m     16\u001b[0m \u001b[39mimport\u001b[39;00m \u001b[39mh5py\u001b[39;00m\n\u001b[0;32m---> 18\u001b[0m \u001b[39mfrom\u001b[39;00m \u001b[39mutilities\u001b[39;00m\u001b[39m.\u001b[39;00m\u001b[39mmaster_utils\u001b[39;00m \u001b[39mimport\u001b[39;00m set_up_logger\n\u001b[1;32m     19\u001b[0m \u001b[39mfrom\u001b[39;00m \u001b[39mutilities\u001b[39;00m\u001b[39m.\u001b[39;00m\u001b[39mmaster_utils\u001b[39;00m \u001b[39mimport\u001b[39;00m has_match\n\u001b[1;32m     21\u001b[0m LOGGER \u001b[39m=\u001b[39m set_up_logger(\u001b[39m\"\u001b[39m\u001b[39mlanl lqcd analysis\u001b[39m\u001b[39m\"\u001b[39m)\n",
      "\u001b[0;31mModuleNotFoundError\u001b[0m: No module named 'utilities'"
     ]
    }
   ],
   "source": [
    "import re\n",
    "import h5py\n",
    "import pandas as pd\n",
    "import numpy as np\n",
    "import importlib\n",
    "import os\n",
    "\n",
    "import gvar\n",
    "os.chdir('/home/gmoney/lqcd/lqcd_corr_analysis/')\n",
    "from src.utilities.h5io import get_dsets\n",
    "\n",
    "fit_params = 'tests/input_file/a071m170.py'\n",
    "# sys.path.insert(0,'/Users/grantdb/lqcd/c51_corr_analysis')\n"
   ]
  },
  {
   "cell_type": "code",
   "execution_count": 48,
   "metadata": {},
   "outputs": [],
   "source": [
    "sys.path.append(os.path.dirname(os.path.abspath(fit_params)))\n",
    "fp = importlib.import_module(\n",
    "        fit_params.split('/')[-1].split('.py')[0])\n",
    "data_dir = fp.file_params['data_dir']"
   ]
  },
  {
   "cell_type": "code",
   "execution_count": null,
   "metadata": {},
   "outputs": [],
   "source": []
  },
  {
   "cell_type": "code",
   "execution_count": 49,
   "metadata": {},
   "outputs": [],
   "source": [
    "\n",
    "dirs = os.listdir( data_dir )\n",
    "cnf_abbr = [files.split(\".ama.h5\")[0] for files in dirs]\n",
    "cnf_abbr = [cnf.replace('-','.') for cnf in cnf_abbr]\n",
    "# cnf_abbr_ascend = {}\n",
    "cnf_abbr_ascend = [cnf_.split('_')[1] for cnf_ in cnf_abbr]\n",
    "cfg_abbr_sorted = np.sort(cnf_abbr_ascend,axis=None)\n",
    "with open(\"cfg.txt\",\"a\") as f: \n",
    "\n",
    "    print(cfg_abbr_sorted.astype(int).tolist(),file=f)\n",
    "data_file_list = list()\n",
    "for dirpath,_,filenames in os.walk(data_dir):\n",
    "    for f in filenames:\n",
    "        data_file_list.append(os.path.abspath(os.path.join(dirpath, f)))\n",
    "sorted_files = np.sort(data_file_list)\n",
    "file = data_file_list[0]"
   ]
  },
  {
   "cell_type": "code",
   "execution_count": 85,
   "metadata": {},
   "outputs": [
    {
     "name": "stdout",
     "output_type": "stream",
     "text": [
      "32\n",
      "{'proton': array([2.3(1.1)e-13, 2.1(1.0)e-13, 2.1(1.1)e-13, 2.2(1.3)e-13,\n",
      "       2.2(1.3)e-13, 2.3(1.2)e-13, 2.3(1.1)e-13, 2.3(1.2)e-13,\n",
      "       2.3(1.3)e-13], dtype=object), 'proton_SP': array([2.29(85)e-10, 2.25(83)e-10, 2.22(93)e-10, 2.2(1.0)e-10,\n",
      "       2.2(1.1)e-10, 2.3(1.0)e-10, 2.29(89)e-10, 2.27(96)e-10,\n",
      "       2.3(1.1)e-10], dtype=object)}\n"
     ]
    },
    {
     "ename": "TypeError",
     "evalue": "'NoneType' object is not callable",
     "output_type": "error",
     "traceback": [
      "\u001b[0;31m---------------------------------------------------------------------------\u001b[0m",
      "\u001b[0;31mTypeError\u001b[0m                                 Traceback (most recent call last)",
      "\u001b[0;32m<ipython-input-85-02ff72d5d62e>\u001b[0m in \u001b[0;36m<module>\u001b[0;34m\u001b[0m\n\u001b[1;32m     36\u001b[0m \u001b[0mc2_snk\u001b[0m \u001b[0;34m=\u001b[0m \u001b[0mc2\u001b[0m\u001b[0;34m[\u001b[0m\u001b[0;34m'proton_SP'\u001b[0m\u001b[0;34m]\u001b[0m\u001b[0;34m\u001b[0m\u001b[0;34m\u001b[0m\u001b[0m\n\u001b[1;32m     37\u001b[0m \u001b[0;34m\u001b[0m\u001b[0m\n\u001b[0;32m---> 38\u001b[0;31m \u001b[0mc2_src\u001b[0m\u001b[0;34m.\u001b[0m\u001b[0mfastfit\u001b[0m\u001b[0;34m(\u001b[0m\u001b[0;34m)\u001b[0m\u001b[0;34m\u001b[0m\u001b[0;34m\u001b[0m\u001b[0m\n\u001b[0m\u001b[1;32m     39\u001b[0m \u001b[0;34m\u001b[0m\u001b[0m\n\u001b[1;32m     40\u001b[0m \u001b[0;34m\u001b[0m\u001b[0m\n",
      "\u001b[0;31mTypeError\u001b[0m: 'NoneType' object is not callable"
     ]
    }
   ],
   "source": [
    "h5f = h5py.File('./src/fitter/proton.h5','r')\n",
    "# h5f_sp = h5py.File('proton_SP.h5','r')\n",
    "# line = next(h5f)\n",
    "# h5f = h5py.File('pion.h5','r')\n",
    "string = '2pt/proton/src10.0_snk10.0/proton/AMA'\n",
    "string_sp = '2pt/proton_SP/src10.0_snk10.0/proton/AMA'\n",
    "string_tsep10 = '3pt_tsep10/'\n",
    "ifil = h5f[string][:]\n",
    "ifil_sp = h5f[string_sp][:]\n",
    "import pandas as pd\n",
    "# only need real part for 2pt correlators\n",
    "_ifil = pd.DataFrame(ifil)['re'] \n",
    "_ifil_sp = pd.DataFrame(ifil_sp)['re'] \n",
    "corrs = {}\n",
    "corrs['proton'] = _ifil.to_numpy()\n",
    "corrs['proton_SP'] = _ifil_sp.to_numpy()\n",
    "# corrs.columns\n",
    "corrs\n",
    "from prepare_data_lanl import *\n",
    "Ncfg = corrs['proton'].shape[0]\n",
    "bl = 9\n",
    "ydata = {}\n",
    "ydata['proton'] = np.reshape(corrs['proton'], (Ncfg//bl, bl))\n",
    "ydata['proton_SP'] = np.reshape(corrs['proton_SP'], (Ncfg//bl, bl))\n",
    "from prepare_data_lanl import *\n",
    "ydata_out = bs_to_gvar(data=ydata, corr='proton',bs_N=100)\n",
    "print(ydata_out)\n",
    "# gv.dataset.avg_data(ydata['proton'])\n",
    "import corr_functions as cf\n",
    "Tags = ['proton','proton_SP']\n",
    "c2 = {}\n",
    "c2['proton'] = cf.C_2pt(tag='proton',ydata=ydata_out['proton'],skip_fastfit=False)\n",
    "c2['proton_SP'] = cf.C_2pt(tag='proton_SP',ydata=ydata_out['proton_SP'],skip_fastfit=True)\n",
    "\n",
    "c2_src = c2['proton']\n",
    "c2_snk = c2['proton_SP']\n",
    "\n",
    "c2_src.fastfit()\n",
    "\n",
    "\n",
    "# ydata"
   ]
  },
  {
   "cell_type": "code",
   "execution_count": 64,
   "metadata": {},
   "outputs": [
    {
     "data": {
      "image/png": "[encoded data removed]",
      "text/plain": [
       "<Figure size 432x288 with 1 Axes>"
      ]
     },
     "execution_count": 64,
     "metadata": {},
     "output_type": "execute_result"
    }
   ],
   "source": [
    "import matplotlib.pyplot as plt\n",
    "import matplotlib\n",
    "def plot_effective_mass(correlators_gv, t_plot_min = None, t_plot_max = None):\n",
    "    if t_plot_min == None: t_plot_min = 0\n",
    "    if t_plot_max == None: t_plot_max = correlators_gv['proton'].shape[0] - 1\n",
    "\n",
    "    tau = +2\n",
    "    effective_mass = gv.BufferDict()\n",
    "    for key in correlators_gv.keys():\n",
    "        effective_mass[key] = (1.0/tau) * np.log(correlators_gv[key] / np.roll(correlators_gv[key], -tau))\n",
    "    t = np.arange(t_plot_min, t_plot_max)\n",
    "    for j, key in enumerate(sorted(correlators_gv.keys())):\n",
    "        y = gv.mean(effective_mass[key])[t]\n",
    "        y_err = gv.sdev(effective_mass[key])[t]\n",
    "        \n",
    "        tp = t + 0.1 - j*0.2\n",
    "        plt.errorbar(tp, y, xerr = 0.0, yerr=y_err, fmt='o', capsize=5.0,capthick=2.0, alpha=0.6, elinewidth=5.0, label=key)\n",
    "\n",
    "\n",
    "    # Label dirac/smeared data\n",
    "    plt.legend()\n",
    "    plt.grid(True)\n",
    "    plt.ylim(0.1, 0.75)\n",
    "    plt.xlabel('$t$', fontsize = 24)\n",
    "    plt.ylabel('$m_{eff}$', fontsize = 24)\n",
    "    fit = plt.gcf()\n",
    "    plt.close()\n",
    "    return fit\n",
    "plot_effective_mass(ydata_out)\n"
   ]
  },
  {
   "cell_type": "code",
   "execution_count": 59,
   "metadata": {},
   "outputs": [
    {
     "name": "stdout",
     "output_type": "stream",
     "text": [
      "3pt\n",
      "3pt_tsep(?P<tsep>[0-9]|[0-9]+)\n",
      "3pt_tsep(?P<tsep>[0-9]|[0-9]+)/NUCL_(?P<quark>U|D)\n",
      "3pt_tsep(?P<tsep>[0-9]|[0-9]+)/NUCL_(?P<quark>U|D)_MIXED_NONREL\n",
      "3pt_tsep(?P<tsep>[0-9]|[0-9]+)/NUCL_(?P<quark>U|D)_MIXED_NONREL_l(?P<l>[0-9]+)\n",
      "3pt_tsep(?P<tsep>[0-9]|[0-9]+)/NUCL_(?P<quark>U|D)_MIXED_NONREL_l(?P<l>[0-9]+)_g(?P<g>[0-15]+)\n",
      "3pt_tsep(?P<tsep>[0-9]|[0-9]+)/NUCL_(?P<quark>U|D)_MIXED_NONREL_l(?P<l>[0-9]+)_g(?P<g>[0-15]+)/src(?P<src>[0-9\\.]+)\n",
      "3pt_tsep(?P<tsep>[0-9]|[0-9]+)/NUCL_(?P<quark>U|D)_MIXED_NONREL_l(?P<l>[0-9]+)_g(?P<g>[0-15]+)/src(?P<src>[0-9\\.]+)_snk(?P<snk>[0-9\\.]+)\n",
      "3pt_tsep(?P<tsep>[0-9]|[0-9]+)/NUCL_(?P<quark>U|D)_MIXED_NONREL_l(?P<l>[0-9]+)_g(?P<g>[0-15]+)/src(?P<src>[0-9\\.]+)_snk(?P<snk>[0-9\\.]+)/qz(?P<qz>[\\+\\-0-9]+)\n",
      "3pt_tsep(?P<tsep>[0-9]|[0-9]+)/NUCL_(?P<quark>U|D)_MIXED_NONREL_l(?P<l>[0-9]+)_g(?P<g>[0-15]+)/src(?P<src>[0-9\\.]+)_snk(?P<snk>[0-9\\.]+)/qz(?P<qz>[\\+\\-0-9]+)_qy(?P<qy>[\\+\\-0-9]+)\n",
      "3pt_tsep(?P<tsep>[0-9]|[0-9]+)/NUCL_(?P<quark>U|D)_MIXED_NONREL_l(?P<l>[0-9]+)_g(?P<g>[0-15]+)/src(?P<src>[0-9\\.]+)_snk(?P<snk>[0-9\\.]+)/qz(?P<qz>[\\+\\-0-9]+)_qy(?P<qy>[\\+\\-0-9]+)_qx(?P<qx>[\\+\\-0-9]+)\n"
     ]
    }
   ],
   "source": [
    "threept_patterns = [\n",
    "    \"3pt\",\n",
    "    \"_tsep(?P<tsep>[0-9]|[0-9]+)\",  # must match `_tsep` and stores the following numbers (any length)\n",
    "    \"/NUCL_(?P<quark>U|D)\",  # Store U or D in quark\n",
    "    \"_MIXED_NONREL\",  # Not sure if this changes. Not stored for now\n",
    "    \"_l(?P<l>[0-9]+)\",  # action parameters?\n",
    "    \"_g(?P<g>[0-15]+)\",\n",
    "    \"/src(?P<src>[0-9\\.]+)\",  # Stores numbers + . to store decimals. Must escape .\n",
    "    \"_snk(?P<snk>[0-9\\.]+)\",  # Stores numbers + . to store decimals. Must escape .\n",
    "    \"/qz(?P<qz>[\\+\\-0-9]+)\", \n",
    "    \"_qy(?P<qy>[\\+\\-0-9]+)\", \n",
    "    \"_qx(?P<qx>[\\+\\-0-9]+)\",\n",
    "]\n",
    "\n",
    "twopt_patterns = [\n",
    "    \"2pt\",\n",
    "    \"/(?P<corr>pion|pion_SP|proton|proton_SP)\",\n",
    "    \"(?P<cfg>E7.\\w\\_[0-9][0-9][0-9][0-9]+)\\/\"\n",
    "]\n",
    "\n",
    "for n in range(len(threept_patterns)):\n",
    "    pattern = \"\".join(threept_patterns[:n+1])\n",
    "    print(pattern)\n",
    "#     match = re.match(pattern, string)\n",
    "#     if not match:\n",
    "#         print(pattern)\n",
    "#         break\n",
    "\n",
    "# if match:\n",
    "#     print(match.groupdict())"
   ]
  },
  {
   "cell_type": "code",
   "execution_count": 37,
   "metadata": {},
   "outputs": [
    {
     "name": "stderr",
     "output_type": "stream",
     "text": [
      "[2022-09-05 15:15:00,131|lqcd correlator analysis@INFO] Locating all dsets of h5 file `/home/gbradley/c51_corr_analysis/tests/data/E7/E7-a_1716.ama.h5`\n"
     ]
    },
    {
     "ename": "TypeError",
     "evalue": "unhashable type: 'list'",
     "output_type": "error",
     "traceback": [
      "\u001b[0;31m---------------------------------------------------------------------------\u001b[0m",
      "\u001b[0;31mTypeError\u001b[0m                                 Traceback (most recent call last)",
      "\u001b[0;32m<ipython-input-37-2fd814179f8e>\u001b[0m in \u001b[0;36m<module>\u001b[0;34m\u001b[0m\n\u001b[1;32m      5\u001b[0m \u001b[0;34m\u001b[0m\u001b[0m\n\u001b[1;32m      6\u001b[0m     \u001b[0;32mfor\u001b[0m \u001b[0mkey\u001b[0m\u001b[0;34m,\u001b[0m \u001b[0mdset\u001b[0m \u001b[0;32min\u001b[0m \u001b[0mdsets\u001b[0m\u001b[0;34m.\u001b[0m\u001b[0mitems\u001b[0m\u001b[0;34m(\u001b[0m\u001b[0;34m)\u001b[0m\u001b[0;34m:\u001b[0m\u001b[0;34m\u001b[0m\u001b[0;34m\u001b[0m\u001b[0m\n\u001b[0;32m----> 7\u001b[0;31m         \u001b[0mmatch\u001b[0m \u001b[0;34m=\u001b[0m \u001b[0mre\u001b[0m\u001b[0;34m.\u001b[0m\u001b[0msearch\u001b[0m\u001b[0;34m(\u001b[0m\u001b[0mthreept_patterns\u001b[0m\u001b[0;34m,\u001b[0m \u001b[0mkey\u001b[0m\u001b[0;34m)\u001b[0m\u001b[0;34m\u001b[0m\u001b[0;34m\u001b[0m\u001b[0m\n\u001b[0m\u001b[1;32m      8\u001b[0m         \u001b[0;32mif\u001b[0m \u001b[0mmatch\u001b[0m\u001b[0;34m:\u001b[0m\u001b[0;34m\u001b[0m\u001b[0;34m\u001b[0m\u001b[0m\n\u001b[1;32m      9\u001b[0m             \u001b[0minfo\u001b[0m \u001b[0;34m=\u001b[0m \u001b[0mmatch\u001b[0m\u001b[0;34m.\u001b[0m\u001b[0mgroupdict\u001b[0m\u001b[0;34m(\u001b[0m\u001b[0;34m)\u001b[0m\u001b[0;34m\u001b[0m\u001b[0;34m\u001b[0m\u001b[0m\n",
      "\u001b[0;32m/usr/lib/python3.8/re.py\u001b[0m in \u001b[0;36msearch\u001b[0;34m(pattern, string, flags)\u001b[0m\n\u001b[1;32m    199\u001b[0m     \"\"\"Scan through string looking for a match to the pattern, returning\n\u001b[1;32m    200\u001b[0m     a Match object, or None if no match was found.\"\"\"\n\u001b[0;32m--> 201\u001b[0;31m     \u001b[0;32mreturn\u001b[0m \u001b[0m_compile\u001b[0m\u001b[0;34m(\u001b[0m\u001b[0mpattern\u001b[0m\u001b[0;34m,\u001b[0m \u001b[0mflags\u001b[0m\u001b[0;34m)\u001b[0m\u001b[0;34m.\u001b[0m\u001b[0msearch\u001b[0m\u001b[0;34m(\u001b[0m\u001b[0mstring\u001b[0m\u001b[0;34m)\u001b[0m\u001b[0;34m\u001b[0m\u001b[0;34m\u001b[0m\u001b[0m\n\u001b[0m\u001b[1;32m    202\u001b[0m \u001b[0;34m\u001b[0m\u001b[0m\n\u001b[1;32m    203\u001b[0m \u001b[0;32mdef\u001b[0m \u001b[0msub\u001b[0m\u001b[0;34m(\u001b[0m\u001b[0mpattern\u001b[0m\u001b[0;34m,\u001b[0m \u001b[0mrepl\u001b[0m\u001b[0;34m,\u001b[0m \u001b[0mstring\u001b[0m\u001b[0;34m,\u001b[0m \u001b[0mcount\u001b[0m\u001b[0;34m=\u001b[0m\u001b[0;36m0\u001b[0m\u001b[0;34m,\u001b[0m \u001b[0mflags\u001b[0m\u001b[0;34m=\u001b[0m\u001b[0;36m0\u001b[0m\u001b[0;34m)\u001b[0m\u001b[0;34m:\u001b[0m\u001b[0;34m\u001b[0m\u001b[0;34m\u001b[0m\u001b[0m\n",
      "\u001b[0;32m/usr/lib/python3.8/re.py\u001b[0m in \u001b[0;36m_compile\u001b[0;34m(pattern, flags)\u001b[0m\n\u001b[1;32m    292\u001b[0m         \u001b[0mflags\u001b[0m \u001b[0;34m=\u001b[0m \u001b[0mflags\u001b[0m\u001b[0;34m.\u001b[0m\u001b[0mvalue\u001b[0m\u001b[0;34m\u001b[0m\u001b[0;34m\u001b[0m\u001b[0m\n\u001b[1;32m    293\u001b[0m     \u001b[0;32mtry\u001b[0m\u001b[0;34m:\u001b[0m\u001b[0;34m\u001b[0m\u001b[0;34m\u001b[0m\u001b[0m\n\u001b[0;32m--> 294\u001b[0;31m         \u001b[0;32mreturn\u001b[0m \u001b[0m_cache\u001b[0m\u001b[0;34m[\u001b[0m\u001b[0mtype\u001b[0m\u001b[0;34m(\u001b[0m\u001b[0mpattern\u001b[0m\u001b[0;34m)\u001b[0m\u001b[0;34m,\u001b[0m \u001b[0mpattern\u001b[0m\u001b[0;34m,\u001b[0m \u001b[0mflags\u001b[0m\u001b[0;34m]\u001b[0m\u001b[0;34m\u001b[0m\u001b[0;34m\u001b[0m\u001b[0m\n\u001b[0m\u001b[1;32m    295\u001b[0m     \u001b[0;32mexcept\u001b[0m \u001b[0mKeyError\u001b[0m\u001b[0;34m:\u001b[0m\u001b[0;34m\u001b[0m\u001b[0;34m\u001b[0m\u001b[0m\n\u001b[1;32m    296\u001b[0m         \u001b[0;32mpass\u001b[0m\u001b[0;34m\u001b[0m\u001b[0;34m\u001b[0m\u001b[0m\n",
      "\u001b[0;31mTypeError\u001b[0m: unhashable type: 'list'"
     ]
    }
   ],
   "source": [
    "data_frames = []\n",
    "\n",
    "with h5py.File(file, \"r\") as h5f:\n",
    "    dsets = get_dsets(h5f)\n",
    "\n",
    "    for key, dset in dsets.items():\n",
    "        match = re.search(threept_patterns, key)\n",
    "        if match:\n",
    "            info = match.groupdict()\n",
    "\n",
    "            # nucleon_parity = info.pop(\"parity\").split(\"_\")\n",
    "            # info[\"nucleon\"] = nucleon_parity[0]\n",
    "            # info[\"parity\"] = -1 if len(nucleon_parity) == 2 else 1\n",
    "            \n",
    "            # isospin = info.pop(\"isospin\")\n",
    "            # info[\"isospin\"] = 1 if isospin == \"UU\" else -1            \n",
    "\n",
    "            # current_key = key.replace(\"cfgs_srcs\", \"local_curr\")\n",
    "            # curr_dset = h5f[current_key]\n",
    "\n",
    "            # cfgs = dset[:, 0]\n",
    "            # corr = (\n",
    "            #     curr_dset[()].real if info[\"current\"] in [\"V4\"] else curr_dset[()].imag\n",
    "            # )\n",
    "            # ts = range(corr.shape[-1])\n",
    "\n",
    "            # tmp_df = (\n",
    "            #     pd.DataFrame(index=cfgs, columns=ts, data=corr)\n",
    "            #     .unstack()\n",
    "            #     .reset_index()\n",
    "            #     .rename(columns={\"level_0\": \"t\", \"level_1\": \"cfg\", 0: \"corr\"})\n",
    "            # )\n",
    "            # for key, val in info.items():\n",
    "            #     tmp_df[key] = val\n",
    "            # data_frames.append(tmp_df.astype({\"tsep\": int}))\n"
   ]
  },
  {
   "cell_type": "code",
   "execution_count": null,
   "metadata": {},
   "outputs": [],
   "source": []
  }
 ],
 "metadata": {
  "kernelspec": {
   "display_name": "Python 3.8.10 64-bit",
   "language": "python",
   "name": "python3"
  },
  "language_info": {
   "codemirror_mode": {
    "name": "ipython",
    "version": 3
   },
   "file_extension": ".py",
   "mimetype": "text/x-python",
   "name": "python",
   "nbconvert_exporter": "python",
   "pygments_lexer": "ipython3",
   "version": "3.10.7"
  },
  "orig_nbformat": 4,
  "vscode": {
   "interpreter": {
    "hash": "e7370f93d1d0cde622a1f8e1c04877d8463912d04d973331ad4851f04de6915a"
   }
  }
 },
 "nbformat": 4,
 "nbformat_minor": 2
}
